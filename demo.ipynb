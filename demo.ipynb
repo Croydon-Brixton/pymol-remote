{
 "cells": [
  {
   "cell_type": "markdown",
   "metadata": {},
   "source": [
    "# PyMOL Remote demo"
   ]
  },
  {
   "cell_type": "markdown",
   "metadata": {},
   "source": [
    "### 1. [Prerequisite] Server side (where PyMOL is running)"
   ]
  },
  {
   "cell_type": "markdown",
   "metadata": {},
   "source": [
    "This demo should be run on the `client` side, i.e. the machine where you want to run your Python code.\n",
    "To run it, you will need to have run the following command on the `server` side, i.e. the machine where PyMOL is running:\n",
    "\n",
    "1. **Server side (where PyMOL is running)**\n",
    "```bash\n",
    "# Start PyMOL with the RPC server as explained in 2.1.\n",
    "# By default, it will listen on localhost:9123\n",
    "pymol_remote\n",
    "```\n",
    "\n",
    "2. **Client side (on your remote machine)**\n",
    "Connect to the machine (e.g. a cloud server, your HPC, etc.) where you want to run your Python code via SSH and set up port forwarding.\n",
    "You will need to use the same port number as the one you used when starting PyMOL on the server side, by default 9123.\n",
    "```bash\n",
    "# Set up SSH port forwarding (run this in a terminal)\n",
    "ssh -R 9123:localhost:9123 username@server_address\n",
    "```\n",
    "\n",
    "For more details on how to use `pymol_remote`, see the official usage instructions on the GitHub page or [Martin Buttenschön's short blog post](https://www.blopig.com/blog/2024/11/controlling-pymol-from-afar/) on controlling PyMOL from afar."
   ]
  },
  {
   "cell_type": "markdown",
   "metadata": {},
   "source": [
    "### 2. Client side (where you want to run your Python code)"
   ]
  },
  {
   "cell_type": "code",
   "execution_count": null,
   "metadata": {},
   "outputs": [],
   "source": [
    "from pymol_remote.client import PymolSession\n",
    "\n",
    "# NOTE: When you run `pymol_remote` on the server side, it will print a likely guess of your\n",
    "#  IP address (and the correct port number, 9123 by default).\n",
    "HOSTNAME = \"localhost\"\n",
    "PORT = 9123\n",
    "pymol = PymolSession(hostname=HOSTNAME, port=PORT)\n",
    "\n",
    "# You can now send commands to PyMOL\n",
    "pymol.fetch(\"6lyz\")\n",
    "pymol.do(\"remove solvent\")\n",
    "pymol.do(\"set valence, on\")\n",
    "pymol.get_state(format=\"cif\")"
   ]
  },
  {
   "cell_type": "code",
   "execution_count": 3,
   "metadata": {},
   "outputs": [],
   "source": [
    "# Make pymol look pretty (Courtesy of Kate Fie: https://www.blopig.com/blog/2024/12/making-pretty-pictures-in-pymol-v2/)\n",
    "from pymol_remote.style import make_pymol_pretty\n",
    "\n",
    "make_pymol_pretty(pymol)"
   ]
  },
  {
   "cell_type": "code",
   "execution_count": null,
   "metadata": {},
   "outputs": [],
   "source": [
    "pymol.print_help()"
   ]
  },
  {
   "cell_type": "markdown",
   "metadata": {},
   "source": [
    "Get help on a specific command"
   ]
  },
  {
   "cell_type": "code",
   "execution_count": null,
   "metadata": {},
   "outputs": [],
   "source": [
    "pymol.help(\"fetch\")"
   ]
  },
  {
   "cell_type": "code",
   "execution_count": null,
   "metadata": {},
   "outputs": [],
   "source": [
    "pymol.help(\"get_state\")"
   ]
  },
  {
   "cell_type": "markdown",
   "metadata": {},
   "source": [
    "Show all the available commands"
   ]
  },
  {
   "cell_type": "code",
   "execution_count": null,
   "metadata": {},
   "outputs": [],
   "source": [
    "pymol.help()"
   ]
  }
 ],
 "metadata": {
  "kernelspec": {
   "display_name": "Python 3",
   "language": "python",
   "name": "python3"
  },
  "language_info": {
   "codemirror_mode": {
    "name": "ipython",
    "version": 3
   },
   "file_extension": ".py",
   "mimetype": "text/x-python",
   "name": "python",
   "nbconvert_exporter": "python",
   "pygments_lexer": "ipython3",
   "version": "3.12.2"
  }
 },
 "nbformat": 4,
 "nbformat_minor": 2
}
